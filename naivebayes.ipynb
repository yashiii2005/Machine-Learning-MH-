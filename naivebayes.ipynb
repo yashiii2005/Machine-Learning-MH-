{
 "cells": [
  {
   "cell_type": "code",
   "execution_count": 1,
   "id": "3ee2b87b-c71b-4861-963f-9d38777179a4",
   "metadata": {},
   "outputs": [],
   "source": [
    "import numpy as np\n",
    "import pandas as pd\n",
    "from sklearn.model_selection import train_test_split\n",
    "from sklearn.naive_bayes import GaussianNB\n",
    "from sklearn.metrics import (\n",
    "    accuracy_score, confusion_matrix, f1_score, roc_auc_score,\n",
    "    roc_curve\n",
    ")"
   ]
  },
  {
   "cell_type": "code",
   "execution_count": 2,
   "id": "f59b261f-a086-46ab-b286-5325eee8afb9",
   "metadata": {},
   "outputs": [],
   "source": [
    "def evaluate_binary(y_true, y_pred, y_prob=None):\n",
    "    #Returns a dict with Accuracy, TP, TN, FP, FN, Error, Recall (Sensitivity), Specificity, F1-score, AUC.\n",
    "    acc = accuracy_score(y_true, y_pred)\n",
    "    tn, fp, fn, tp = confusion_matrix(y_true, y_pred).ravel()\n",
    "    err = 1 - acc\n",
    "    recall = tp / (tp + fn) if (tp + fn) > 0 else 0.0  # sensitivity\n",
    "    specificity = tn / (tn + fp) if (tn + fp) > 0 else 0.0\n",
    "    f1 = f1_score(y_true, y_pred)\n",
    "    auc = None\n",
    "    if y_prob is not None:\n",
    "        try:\n",
    "            auc = roc_auc_score(y_true, y_prob)\n",
    "        except Exception:\n",
    "            auc = None\n",
    "    return {\n",
    "        \"Accuracy\": acc,\n",
    "        \"TP\": int(tp), \"TN\": int(tn), \"FP\": int(fp), \"FN\": int(fn),\n",
    "        \"Error\": err,\n",
    "        \"Recall (Sensitivity)\": recall,\n",
    "        \"Specificity\": specificity,\n",
    "        \"F1-score\": f1,\n",
    "        \"AUC\": auc\n",
    "    }"
   ]
  },
  {
   "cell_type": "code",
   "execution_count": 4,
   "id": "56e2f374-f949-4419-8bc9-09769c4a5898",
   "metadata": {},
   "outputs": [],
   "source": [
    "def run_naive_bayes_pipeline(X, y, dataset_name=\"dataset\", test_size=0.2, random_state=42):\n",
    "    # Split (stratify to keep class balance)\n",
    "    X_train, X_test, y_train, y_test = train_test_split(\n",
    "        X, y, test_size=test_size, random_state=random_state, stratify=y\n",
    "    )\n",
    "\n",
    "    # Train Gaussian Naive Bayes\n",
    "    model = GaussianNB()\n",
    "    model.fit(X_train, y_train)\n",
    "\n",
    "    # Predictions\n",
    "    y_pred = model.predict(X_test)\n",
    "    # For AUC, we need probabilities for the positive class\n",
    "    y_prob = None\n",
    "    if hasattr(model, \"predict_proba\"):\n",
    "        y_prob = model.predict_proba(X_test)[:, 1]\n",
    "\n",
    "    # Evaluate\n",
    "    metrics = evaluate_binary(y_test, y_pred, y_prob)\n",
    "    print(f\"\\n===== Results for {dataset_name} =====\")\n",
    "    for k, v in metrics.items():\n",
    "        # format floats\n",
    "        if isinstance(v, float):\n",
    "            print(f\"{k:20s}: {v:.4f}\")\n",
    "        else:\n",
    "            print(f\"{k:20s}: {v}\")\n",
    "    return model, metrics, y_prob"
   ]
  },
  {
   "cell_type": "code",
   "execution_count": 5,
   "id": "2c3c0b0c-896a-4322-8f04-8f52adc13e9a",
   "metadata": {},
   "outputs": [
    {
     "name": "stdout",
     "output_type": "stream",
     "text": [
      "\n",
      "===== Results for Breast Cancer (sklearn) =====\n",
      "Accuracy            : 0.8472\n",
      "TP                  : 19\n",
      "TN                  : 175\n",
      "FP                  : 22\n",
      "FN                  : 13\n",
      "Error               : 0.1528\n",
      "Recall (Sensitivity): 0.5938\n",
      "Specificity         : 0.8883\n",
      "F1-score            : 0.5205\n",
      "AUC                 : 0.7946\n",
      "\n",
      "===== Summary table =====\n"
     ]
    },
    {
     "data": {
      "text/html": [
       "<div>\n",
       "<style scoped>\n",
       "    .dataframe tbody tr th:only-of-type {\n",
       "        vertical-align: middle;\n",
       "    }\n",
       "\n",
       "    .dataframe tbody tr th {\n",
       "        vertical-align: top;\n",
       "    }\n",
       "\n",
       "    .dataframe thead th {\n",
       "        text-align: right;\n",
       "    }\n",
       "</style>\n",
       "<table border=\"1\" class=\"dataframe\">\n",
       "  <thead>\n",
       "    <tr style=\"text-align: right;\">\n",
       "      <th></th>\n",
       "      <th>Accuracy</th>\n",
       "      <th>TP</th>\n",
       "      <th>TN</th>\n",
       "      <th>FP</th>\n",
       "      <th>FN</th>\n",
       "      <th>Error</th>\n",
       "      <th>Recall (Sensitivity)</th>\n",
       "      <th>Specificity</th>\n",
       "      <th>F1-score</th>\n",
       "      <th>AUC</th>\n",
       "    </tr>\n",
       "  </thead>\n",
       "  <tbody>\n",
       "    <tr>\n",
       "      <th>wine quality</th>\n",
       "      <td>0.8472</td>\n",
       "      <td>19.0000</td>\n",
       "      <td>175.0000</td>\n",
       "      <td>22.0000</td>\n",
       "      <td>13.0000</td>\n",
       "      <td>0.1528</td>\n",
       "      <td>0.5938</td>\n",
       "      <td>0.8883</td>\n",
       "      <td>0.5205</td>\n",
       "      <td>0.7946</td>\n",
       "    </tr>\n",
       "  </tbody>\n",
       "</table>\n",
       "</div>"
      ],
      "text/plain": [
       "              Accuracy      TP       TN      FP      FN  Error  \\\n",
       "wine quality    0.8472 19.0000 175.0000 22.0000 13.0000 0.1528   \n",
       "\n",
       "              Recall (Sensitivity)  Specificity  F1-score    AUC  \n",
       "wine quality                0.5938       0.8883    0.5205 0.7946  "
      ]
     },
     "metadata": {},
     "output_type": "display_data"
    }
   ],
   "source": [
    "# 1) Breast Cancer Wisconsin (Diagnostic) -- via sklearn\n",
    "df = pd.read_csv(r'C:\\Users\\DSC3\\Desktop\\yashasvi1315\\WineQTDataset.csv')\n",
    "df['quality label']=df['quality'].apply(lambda x:1 if x>6 else 0)\n",
    "X = df.drop(columns={'quality','quality label'})  # feature column\n",
    "y = df['quality label']    # target column\n",
    "\n",
    "# Run pipeline\n",
    "model_bc, metrics_bc, y_prob = run_naive_bayes_pipeline(X, y, dataset_name=\"Breast Cancer (sklearn)\")\n",
    "\n",
    "# Summary table\n",
    "summary = pd.DataFrame({\n",
    "    \"wine quality\": metrics_bc\n",
    "}).T\n",
    "\n",
    "pd.options.display.float_format = '{:.4f}'.format\n",
    "print(\"\\n===== Summary table =====\")\n",
    "display(summary)"
   ]
  },
  {
   "cell_type": "code",
   "execution_count": 6,
   "id": "6f47383f-b0d4-43f1-aed6-a7386ed1c4a2",
   "metadata": {},
   "outputs": [
    {
     "data": {
      "image/png": "[encoded data removed]",
      "text/plain": [
       "<Figure size 800x500 with 1 Axes>"
      ]
     },
     "metadata": {},
     "output_type": "display_data"
    }
   ],
   "source": [
    "import matplotlib.pyplot as plt\n",
    "import seaborn as sns\n",
    "#Probability Distribution Plot\n",
    "plt.figure(figsize=(8, 5))\n",
    "sns.histplot(y_prob, bins=20, kde=True, color='skyblue')\n",
    "plt.title('Predicted Probability Distribution for Positive Class (Benign)', fontsize=14)\n",
    "plt.xlabel('Predicted Probability')\n",
    "plt.ylabel('Number of Samples')\n",
    "plt.show()"
   ]
  },
  {
   "cell_type": "code",
   "execution_count": null,
   "id": "69c75b87-9890-444a-ae19-de4f6901e98b",
   "metadata": {},
   "outputs": [],
   "source": []
  }
 ],
 "metadata": {
  "kernelspec": {
   "display_name": "Python 3 (ipykernel)",
   "language": "python",
   "name": "python3"
  },
  "language_info": {
   "codemirror_mode": {
    "name": "ipython",
    "version": 3
   },
   "file_extension": ".py",
   "mimetype": "text/x-python",
   "name": "python",
   "nbconvert_exporter": "python",
   "pygments_lexer": "ipython3",
   "version": "3.13.5"
  }
 },
 "nbformat": 4,
 "nbformat_minor": 5
}
